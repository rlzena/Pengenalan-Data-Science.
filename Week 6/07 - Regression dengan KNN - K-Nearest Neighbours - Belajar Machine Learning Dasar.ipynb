{
 "cells": [
  {
   "cell_type": "markdown",
   "id": "a4d53563",
   "metadata": {},
   "source": [
    "# SKLearn 07 | Regression dengan KNN | K-Nearest Neighbours | Belajar Machine Learning Dasar"
   ]
  },
  {
   "cell_type": "markdown",
   "id": "31810135",
   "metadata": {},
   "source": [
    "Link youtube : https://www.youtube.com/watch?v=W8adIcfv16M"
   ]
  },
  {
   "cell_type": "markdown",
   "id": "e385b385",
   "metadata": {},
   "source": [
    "Sample Dataset"
   ]
  },
  {
   "cell_type": "code",
   "execution_count": 14,
   "id": "95c692cd",
   "metadata": {},
   "outputs": [
    {
     "data": {
      "text/html": [
       "<div>\n",
       "<style scoped>\n",
       "    .dataframe tbody tr th:only-of-type {\n",
       "        vertical-align: middle;\n",
       "    }\n",
       "\n",
       "    .dataframe tbody tr th {\n",
       "        vertical-align: top;\n",
       "    }\n",
       "\n",
       "    .dataframe thead th {\n",
       "        text-align: right;\n",
       "    }\n",
       "</style>\n",
       "<table border=\"1\" class=\"dataframe\">\n",
       "  <thead>\n",
       "    <tr style=\"text-align: right;\">\n",
       "      <th></th>\n",
       "      <th>tinggi</th>\n",
       "      <th>jk</th>\n",
       "      <th>berat</th>\n",
       "    </tr>\n",
       "  </thead>\n",
       "  <tbody>\n",
       "    <tr>\n",
       "      <th>0</th>\n",
       "      <td>158</td>\n",
       "      <td>pria</td>\n",
       "      <td>64</td>\n",
       "    </tr>\n",
       "    <tr>\n",
       "      <th>1</th>\n",
       "      <td>170</td>\n",
       "      <td>pria</td>\n",
       "      <td>86</td>\n",
       "    </tr>\n",
       "    <tr>\n",
       "      <th>2</th>\n",
       "      <td>183</td>\n",
       "      <td>pria</td>\n",
       "      <td>84</td>\n",
       "    </tr>\n",
       "    <tr>\n",
       "      <th>3</th>\n",
       "      <td>191</td>\n",
       "      <td>pria</td>\n",
       "      <td>80</td>\n",
       "    </tr>\n",
       "    <tr>\n",
       "      <th>4</th>\n",
       "      <td>155</td>\n",
       "      <td>wanita</td>\n",
       "      <td>49</td>\n",
       "    </tr>\n",
       "    <tr>\n",
       "      <th>5</th>\n",
       "      <td>163</td>\n",
       "      <td>wanita</td>\n",
       "      <td>59</td>\n",
       "    </tr>\n",
       "    <tr>\n",
       "      <th>6</th>\n",
       "      <td>180</td>\n",
       "      <td>wanita</td>\n",
       "      <td>67</td>\n",
       "    </tr>\n",
       "    <tr>\n",
       "      <th>7</th>\n",
       "      <td>158</td>\n",
       "      <td>wanita</td>\n",
       "      <td>54</td>\n",
       "    </tr>\n",
       "    <tr>\n",
       "      <th>8</th>\n",
       "      <td>170</td>\n",
       "      <td>wanita</td>\n",
       "      <td>67</td>\n",
       "    </tr>\n",
       "  </tbody>\n",
       "</table>\n",
       "</div>"
      ],
      "text/plain": [
       "   tinggi      jk  berat\n",
       "0     158    pria     64\n",
       "1     170    pria     86\n",
       "2     183    pria     84\n",
       "3     191    pria     80\n",
       "4     155  wanita     49\n",
       "5     163  wanita     59\n",
       "6     180  wanita     67\n",
       "7     158  wanita     54\n",
       "8     170  wanita     67"
      ]
     },
     "execution_count": 14,
     "metadata": {},
     "output_type": "execute_result"
    }
   ],
   "source": [
    "import pandas as pd\n",
    "\n",
    "sensus = {'tinggi': [158, 170, 183, 191, 155, 163, 180, 158, 170],\n",
    "          'jk': ['pria', 'pria', 'pria', 'pria', 'wanita', 'wanita', 'wanita', 'wanita', 'wanita'],\n",
    "          'berat': [64, 86, 84, 80, 49, 59, 67, 54, 67]}\n",
    "\n",
    "sensus_df = pd.DataFrame(sensus)\n",
    "sensus_df"
   ]
  },
  {
   "cell_type": "markdown",
   "id": "71aef76e",
   "metadata": {},
   "source": [
    "Features & Target"
   ]
  },
  {
   "cell_type": "code",
   "execution_count": 15,
   "id": "2156847c",
   "metadata": {},
   "outputs": [
    {
     "name": "stdout",
     "output_type": "stream",
     "text": [
      "x_train:\n",
      "[[158 'pria']\n",
      " [170 'pria']\n",
      " [183 'pria']\n",
      " [191 'pria']\n",
      " [155 'wanita']\n",
      " [163 'wanita']\n",
      " [180 'wanita']\n",
      " [158 'wanita']\n",
      " [170 'wanita']]\n",
      "\n",
      "y_train: [64 86 84 80 49 59 67 54 67]\n"
     ]
    }
   ],
   "source": [
    "import numpy as np\n",
    "\n",
    "x_train = np.array(sensus_df[['tinggi', 'jk']])\n",
    "y_train = np.array(sensus_df['berat'])\n",
    "\n",
    "print(f'x_train:\\n{x_train}\\n')\n",
    "print(f'y_train: {y_train}')"
   ]
  },
  {
   "cell_type": "markdown",
   "id": "a6f97690",
   "metadata": {},
   "source": [
    "Preprocess Dataset: Konversi Label menjadi Numerik Biner"
   ]
  },
  {
   "cell_type": "code",
   "execution_count": 16,
   "id": "742985d9",
   "metadata": {},
   "outputs": [
    {
     "name": "stdout",
     "output_type": "stream",
     "text": [
      "x_train:\n",
      "[[158 'pria']\n",
      " [170 'pria']\n",
      " [183 'pria']\n",
      " [191 'pria']\n",
      " [155 'wanita']\n",
      " [163 'wanita']\n",
      " [180 'wanita']\n",
      " [158 'wanita']\n",
      " [170 'wanita']]\n",
      "\n",
      "x_train_transposed:\n",
      "[[158 170 183 191 155 163 180 158 170]\n",
      " ['pria' 'pria' 'pria' 'pria' 'wanita' 'wanita' 'wanita' 'wanita'\n",
      "  'wanita']]\n"
     ]
    }
   ],
   "source": [
    "x_train_transposed = np.transpose(x_train)\n",
    "\n",
    "print(f'x_train:\\n{x_train}\\n')\n",
    "print(f'x_train_transposed:\\n{x_train_transposed}')"
   ]
  },
  {
   "cell_type": "code",
   "execution_count": 20,
   "id": "30a0d28a",
   "metadata": {},
   "outputs": [
    {
     "name": "stdout",
     "output_type": "stream",
     "text": [
      "jk: ['pria' 'pria' 'pria' 'pria' 'wanita' 'wanita' 'wanita' 'wanita' 'wanita']\n",
      "\n",
      "jk_binarised:\n",
      "[[0]\n",
      " [0]\n",
      " [0]\n",
      " [0]\n",
      " [1]\n",
      " [1]\n",
      " [1]\n",
      " [1]\n",
      " [1]]\n"
     ]
    }
   ],
   "source": [
    "from sklearn.preprocessing import LabelBinarizer\n",
    "\n",
    "lb = LabelBinarizer()\n",
    "jk_binarised = lb.fit_transform(x_train_transposed[1])\n",
    "\n",
    "print(f'jk: {x_train_transposed[1]}\\n')\n",
    "print(f'jk_binarised:\\n{jk_binarised}')"
   ]
  },
  {
   "cell_type": "code",
   "execution_count": 21,
   "id": "21fc3a8a",
   "metadata": {},
   "outputs": [
    {
     "data": {
      "text/plain": [
       "array([0, 0, 0, 0, 1, 1, 1, 1, 1])"
      ]
     },
     "execution_count": 21,
     "metadata": {},
     "output_type": "execute_result"
    }
   ],
   "source": [
    "jk_binarised = jk_binarised.flatten()\n",
    "jk_binarised"
   ]
  },
  {
   "cell_type": "code",
   "execution_count": 22,
   "id": "5703d053",
   "metadata": {},
   "outputs": [
    {
     "name": "stdout",
     "output_type": "stream",
     "text": [
      "x_train_transpose:\n",
      " [0 0 0 0 1 1 1 1 1]\n",
      "\n",
      "x_train:\n",
      "[[158 0]\n",
      " [170 0]\n",
      " [183 0]\n",
      " [191 0]\n",
      " [155 1]\n",
      " [163 1]\n",
      " [180 1]\n",
      " [158 1]\n",
      " [170 1]]\n"
     ]
    }
   ],
   "source": [
    "x_train_transposed[1] = jk_binarised\n",
    "x_train = x_train_transposed.transpose()\n",
    "\n",
    "print(f'x_train_transpose:\\n {x_train_transposed[1]}\\n')\n",
    "print(f'x_train:\\n{x_train}')"
   ]
  },
  {
   "cell_type": "markdown",
   "id": "8f6894ba",
   "metadata": {},
   "source": [
    "Training KNN Regression Model"
   ]
  },
  {
   "cell_type": "code",
   "execution_count": 24,
   "id": "fc33c961",
   "metadata": {},
   "outputs": [
    {
     "data": {
      "text/html": [
       "<style>#sk-container-id-1 {color: black;}#sk-container-id-1 pre{padding: 0;}#sk-container-id-1 div.sk-toggleable {background-color: white;}#sk-container-id-1 label.sk-toggleable__label {cursor: pointer;display: block;width: 100%;margin-bottom: 0;padding: 0.3em;box-sizing: border-box;text-align: center;}#sk-container-id-1 label.sk-toggleable__label-arrow:before {content: \"▸\";float: left;margin-right: 0.25em;color: #696969;}#sk-container-id-1 label.sk-toggleable__label-arrow:hover:before {color: black;}#sk-container-id-1 div.sk-estimator:hover label.sk-toggleable__label-arrow:before {color: black;}#sk-container-id-1 div.sk-toggleable__content {max-height: 0;max-width: 0;overflow: hidden;text-align: left;background-color: #f0f8ff;}#sk-container-id-1 div.sk-toggleable__content pre {margin: 0.2em;color: black;border-radius: 0.25em;background-color: #f0f8ff;}#sk-container-id-1 input.sk-toggleable__control:checked~div.sk-toggleable__content {max-height: 200px;max-width: 100%;overflow: auto;}#sk-container-id-1 input.sk-toggleable__control:checked~label.sk-toggleable__label-arrow:before {content: \"▾\";}#sk-container-id-1 div.sk-estimator input.sk-toggleable__control:checked~label.sk-toggleable__label {background-color: #d4ebff;}#sk-container-id-1 div.sk-label input.sk-toggleable__control:checked~label.sk-toggleable__label {background-color: #d4ebff;}#sk-container-id-1 input.sk-hidden--visually {border: 0;clip: rect(1px 1px 1px 1px);clip: rect(1px, 1px, 1px, 1px);height: 1px;margin: -1px;overflow: hidden;padding: 0;position: absolute;width: 1px;}#sk-container-id-1 div.sk-estimator {font-family: monospace;background-color: #f0f8ff;border: 1px dotted black;border-radius: 0.25em;box-sizing: border-box;margin-bottom: 0.5em;}#sk-container-id-1 div.sk-estimator:hover {background-color: #d4ebff;}#sk-container-id-1 div.sk-parallel-item::after {content: \"\";width: 100%;border-bottom: 1px solid gray;flex-grow: 1;}#sk-container-id-1 div.sk-label:hover label.sk-toggleable__label {background-color: #d4ebff;}#sk-container-id-1 div.sk-serial::before {content: \"\";position: absolute;border-left: 1px solid gray;box-sizing: border-box;top: 0;bottom: 0;left: 50%;z-index: 0;}#sk-container-id-1 div.sk-serial {display: flex;flex-direction: column;align-items: center;background-color: white;padding-right: 0.2em;padding-left: 0.2em;position: relative;}#sk-container-id-1 div.sk-item {position: relative;z-index: 1;}#sk-container-id-1 div.sk-parallel {display: flex;align-items: stretch;justify-content: center;background-color: white;position: relative;}#sk-container-id-1 div.sk-item::before, #sk-container-id-1 div.sk-parallel-item::before {content: \"\";position: absolute;border-left: 1px solid gray;box-sizing: border-box;top: 0;bottom: 0;left: 50%;z-index: -1;}#sk-container-id-1 div.sk-parallel-item {display: flex;flex-direction: column;z-index: 1;position: relative;background-color: white;}#sk-container-id-1 div.sk-parallel-item:first-child::after {align-self: flex-end;width: 50%;}#sk-container-id-1 div.sk-parallel-item:last-child::after {align-self: flex-start;width: 50%;}#sk-container-id-1 div.sk-parallel-item:only-child::after {width: 0;}#sk-container-id-1 div.sk-dashed-wrapped {border: 1px dashed gray;margin: 0 0.4em 0.5em 0.4em;box-sizing: border-box;padding-bottom: 0.4em;background-color: white;}#sk-container-id-1 div.sk-label label {font-family: monospace;font-weight: bold;display: inline-block;line-height: 1.2em;}#sk-container-id-1 div.sk-label-container {text-align: center;}#sk-container-id-1 div.sk-container {/* jupyter's `normalize.less` sets `[hidden] { display: none; }` but bootstrap.min.css set `[hidden] { display: none !important; }` so we also need the `!important` here to be able to override the default hidden behavior on the sphinx rendered scikit-learn.org. See: https://github.com/scikit-learn/scikit-learn/issues/21755 */display: inline-block !important;position: relative;}#sk-container-id-1 div.sk-text-repr-fallback {display: none;}</style><div id=\"sk-container-id-1\" class=\"sk-top-container\"><div class=\"sk-text-repr-fallback\"><pre>KNeighborsRegressor(n_neighbors=3)</pre><b>In a Jupyter environment, please rerun this cell to show the HTML representation or trust the notebook. <br />On GitHub, the HTML representation is unable to render, please try loading this page with nbviewer.org.</b></div><div class=\"sk-container\" hidden><div class=\"sk-item\"><div class=\"sk-estimator sk-toggleable\"><input class=\"sk-toggleable__control sk-hidden--visually\" id=\"sk-estimator-id-1\" type=\"checkbox\" checked><label for=\"sk-estimator-id-1\" class=\"sk-toggleable__label sk-toggleable__label-arrow\">KNeighborsRegressor</label><div class=\"sk-toggleable__content\"><pre>KNeighborsRegressor(n_neighbors=3)</pre></div></div></div></div></div>"
      ],
      "text/plain": [
       "KNeighborsRegressor(n_neighbors=3)"
      ]
     },
     "execution_count": 24,
     "metadata": {},
     "output_type": "execute_result"
    }
   ],
   "source": [
    "from sklearn.neighbors import KNeighborsRegressor\n",
    "\n",
    "k = 3\n",
    "model = KNeighborsRegressor(n_neighbors=k)\n",
    "model.fit(x_train, y_train)"
   ]
  },
  {
   "cell_type": "markdown",
   "id": "eed570c2",
   "metadata": {},
   "source": [
    "Prediksi Berat Badan"
   ]
  },
  {
   "cell_type": "code",
   "execution_count": 27,
   "id": "4dd5ac3b",
   "metadata": {},
   "outputs": [
    {
     "data": {
      "text/plain": [
       "array([[155,   1]])"
      ]
     },
     "execution_count": 27,
     "metadata": {},
     "output_type": "execute_result"
    }
   ],
   "source": [
    "x_new = np.array([[155, 1]])\n",
    "x_new"
   ]
  },
  {
   "cell_type": "code",
   "execution_count": 30,
   "id": "a992bb84",
   "metadata": {},
   "outputs": [
    {
     "data": {
      "text/plain": [
       "array([55.66666667])"
      ]
     },
     "execution_count": 30,
     "metadata": {},
     "output_type": "execute_result"
    }
   ],
   "source": [
    "y_pred = model.predict(x_new)\n",
    "y_pred"
   ]
  },
  {
   "cell_type": "markdown",
   "id": "78513699",
   "metadata": {},
   "source": [
    "Evaluasi KNN Regression Model"
   ]
  },
  {
   "cell_type": "code",
   "execution_count": 32,
   "id": "b89bcbb3",
   "metadata": {},
   "outputs": [
    {
     "name": "stdout",
     "output_type": "stream",
     "text": [
      "x_test:\n",
      "[[168   0]\n",
      " [180   0]\n",
      " [160   0]\n",
      " [169   1]]\n",
      "\n",
      "y_test: [65 96 52 67]\n"
     ]
    }
   ],
   "source": [
    "x_test = np.array([[168, 0], [180, 0], [160, 0], [169, 1]])\n",
    "y_test = np.array([65, 96, 52, 67])\n",
    "\n",
    "print(f'x_test:\\n{x_test}\\n')\n",
    "print(f'y_test: {y_test}')"
   ]
  },
  {
   "cell_type": "code",
   "execution_count": 41,
   "id": "1b2e72e9",
   "metadata": {},
   "outputs": [
    {
     "data": {
      "text/plain": [
       "array([70.66666667, 79.        , 59.        , 70.66666667])"
      ]
     },
     "execution_count": 41,
     "metadata": {},
     "output_type": "execute_result"
    }
   ],
   "source": [
    "y_pred = model.predict(x_test)\n",
    "y_pred"
   ]
  },
  {
   "cell_type": "markdown",
   "id": "3c7cecb3",
   "metadata": {},
   "source": [
    "Coefficient of Determination atau R²"
   ]
  },
  {
   "cell_type": "code",
   "execution_count": 42,
   "id": "06f8c617",
   "metadata": {},
   "outputs": [
    {
     "name": "stdout",
     "output_type": "stream",
     "text": [
      "R-squared: 0.6290565226735438\n"
     ]
    }
   ],
   "source": [
    "from sklearn.metrics import r2_score\n",
    "\n",
    "r_squared = r2_score(y_test, y_pred)\n",
    "\n",
    "print(f'R-squared: {r_squared}')"
   ]
  },
  {
   "cell_type": "markdown",
   "id": "2f791993",
   "metadata": {},
   "source": [
    "Mean Absolute Error (MAE) atau Mean Absolute Deviation (MAD)"
   ]
  },
  {
   "cell_type": "code",
   "execution_count": 43,
   "id": "7b36ddd2",
   "metadata": {},
   "outputs": [
    {
     "name": "stdout",
     "output_type": "stream",
     "text": [
      "MAE: 8.333333333333336\n"
     ]
    }
   ],
   "source": [
    "from sklearn.metrics import mean_absolute_error\n",
    "\n",
    "MAE = mean_absolute_error(y_test, y_pred)\n",
    "\n",
    "print(f'MAE: {MAE}')"
   ]
  },
  {
   "cell_type": "markdown",
   "id": "1a59f0bb",
   "metadata": {},
   "source": [
    "Mean Squared Error (MSE) atau Mean Squared Deviation (MSD)"
   ]
  },
  {
   "cell_type": "code",
   "execution_count": 45,
   "id": "8f1a1324",
   "metadata": {},
   "outputs": [
    {
     "name": "stdout",
     "output_type": "stream",
     "text": [
      "MSE: 95.8888888888889\n"
     ]
    }
   ],
   "source": [
    "from sklearn.metrics import mean_squared_error\n",
    "\n",
    "MSE = mean_squared_error(y_test, y_pred)\n",
    "\n",
    "print(f'MSE: {MSE}')"
   ]
  },
  {
   "cell_type": "markdown",
   "id": "d5e05b5f",
   "metadata": {},
   "source": [
    "Permasalahan Scaling pada Features"
   ]
  },
  {
   "cell_type": "code",
   "execution_count": 48,
   "id": "3541545e",
   "metadata": {},
   "outputs": [
    {
     "data": {
      "text/plain": [
       "[9940.0, 10040.000049800798]"
      ]
     },
     "execution_count": 48,
     "metadata": {},
     "output_type": "execute_result"
    }
   ],
   "source": [
    "from scipy.spatial.distance import euclidean\n",
    "\n",
    "#tinggi dalam milimeter\n",
    "x_train = np.array([[1700, 0], [1600, 1]])\n",
    "x_new = np.array([[11640, 0]])\n",
    "\n",
    "[euclidean(x_new[0], d) for d in x_train]"
   ]
  },
  {
   "cell_type": "code",
   "execution_count": 49,
   "id": "cd70c5e1",
   "metadata": {},
   "outputs": [
    {
     "data": {
      "text/plain": [
       "[0.06000000000000005, 1.0007996802557442]"
      ]
     },
     "execution_count": 49,
     "metadata": {},
     "output_type": "execute_result"
    }
   ],
   "source": [
    "#tinggi dalam meter\n",
    "x_train = np.array([[1.7, 0], [1.6, 1]])\n",
    "x_new = np.array([[1.64, 0]])\n",
    "\n",
    "[euclidean(x_new[0], d) for d in x_train]"
   ]
  },
  {
   "cell_type": "markdown",
   "id": "7df661d6",
   "metadata": {},
   "source": [
    "Menerapkan Standart Scaler *Standart Score atau Z-score)"
   ]
  },
  {
   "cell_type": "code",
   "execution_count": 50,
   "id": "8277ba7c",
   "metadata": {},
   "outputs": [],
   "source": [
    "from sklearn.preprocessing import StandardScaler\n",
    "\n",
    "ss = StandardScaler()"
   ]
  },
  {
   "cell_type": "code",
   "execution_count": 51,
   "id": "19f0eeb6",
   "metadata": {},
   "outputs": [
    {
     "name": "stdout",
     "output_type": "stream",
     "text": [
      "x_train_scaled:\n",
      "[[ 1. -1.]\n",
      " [-1.  1.]]|n\n",
      "x_new_scaled: [[-0.2 -1. ]]\n",
      "\n",
      "jarak: [1.2, 2.1540659228538015]\n"
     ]
    }
   ],
   "source": [
    "#tinggi dalam milimeter\n",
    "x_train = np.array([[1700, 0], [1600, 1]])\n",
    "x_train_scaled = ss.fit_transform(x_train)\n",
    "print(f'x_train_scaled:\\n{x_train_scaled}|n')\n",
    "\n",
    "x_new = np.array([[1640, 0]])\n",
    "x_new_scaled = ss.transform(x_new)\n",
    "print(f'x_new_scaled: {x_new_scaled}\\n')\n",
    "\n",
    "jarak = [euclidean(x_new_scaled[0], d) for d in x_train_scaled]\n",
    "print(f'jarak: {jarak}')"
   ]
  },
  {
   "cell_type": "code",
   "execution_count": 52,
   "id": "767fd643",
   "metadata": {},
   "outputs": [
    {
     "name": "stdout",
     "output_type": "stream",
     "text": [
      "x_train_scaled:\n",
      "[[ 1. -1.]\n",
      " [-1.  1.]]|n\n",
      "x_new_scaled: [[-0.2 -1. ]]\n",
      "\n",
      "jarak: [1.2000000000000026, 2.1540659228538006]\n"
     ]
    }
   ],
   "source": [
    "#tinggi dalam meter\n",
    "x_train = np.array([[1.7, 0], [1.6, 1]])\n",
    "x_train_scaled = ss.fit_transform(x_train)\n",
    "print(f'x_train_scaled:\\n{x_train_scaled}|n')\n",
    "\n",
    "x_new = np.array([[1.64, 0]])\n",
    "x_new_scaled = ss.transform(x_new)\n",
    "print(f'x_new_scaled: {x_new_scaled}\\n')\n",
    "\n",
    "jarak = [euclidean(x_new_scaled[0], d) for d in x_train_scaled]\n",
    "print(f'jarak: {jarak}')"
   ]
  },
  {
   "cell_type": "markdown",
   "id": "5c2c4636",
   "metadata": {},
   "source": [
    "# Menerapkan Features Scaling pada KNN"
   ]
  },
  {
   "cell_type": "markdown",
   "id": "fa4cda69",
   "metadata": {},
   "source": [
    "## Dataset "
   ]
  },
  {
   "cell_type": "code",
   "execution_count": 64,
   "id": "fd4582cd",
   "metadata": {},
   "outputs": [],
   "source": [
    "# Training Set\n",
    "x_train = np.array ([[158, 0], [170, 0], [183, 0], [191, 0], [155, 1], [163, 1], [180, 1], [158, 1], [170, 1]])\n",
    "y_train = np.array ([64, 86, 84, 80, 49, 59, 67, 54, 67])\n",
    "\n",
    "# Test set\n",
    "\n",
    "x_test = np.array ([[168, 0], [180, 0], [160, 1], [169, 1]])\n",
    "y_test = np.array ([65, 96, 52, 67])"
   ]
  },
  {
   "cell_type": "markdown",
   "id": "efedf269",
   "metadata": {},
   "source": [
    "## Features Scaling (Standard Scaler) "
   ]
  },
  {
   "cell_type": "code",
   "execution_count": 65,
   "id": "dbfc191e",
   "metadata": {},
   "outputs": [
    {
     "name": "stdout",
     "output_type": "stream",
     "text": [
      "x_train_scaled:\n",
      "[[-0.9908706  -1.11803399]\n",
      " [ 0.01869567 -1.11803399]\n",
      " [ 1.11239246 -1.11803399]\n",
      " [ 1.78543664 -1.11803399]\n",
      " [-1.24326216  0.89442719]\n",
      " [-0.57021798  0.89442719]\n",
      " [ 0.86000089  0.89442719]\n",
      " [-0.9908706   0.89442719]\n",
      " [ 0.01869567  0.89442719]]\n",
      "\n",
      "x_test_scaled:\n",
      "[[-0.14956537 -1.11803399]\n",
      " [ 0.86000089 -1.11803399]\n",
      " [-0.82260955  0.89442719]\n",
      " [-0.06543485  0.89442719]]\n",
      "\n"
     ]
    }
   ],
   "source": [
    "x_train_scaled = ss.fit_transform(x_train)\n",
    "x_test_scaled = ss.transform(x_test)\n",
    "\n",
    "print(f'x_train_scaled:\\n{x_train_scaled}\\n')\n",
    "print(f'x_test_scaled:\\n{x_test_scaled}\\n')"
   ]
  },
  {
   "cell_type": "markdown",
   "id": "47dcdf23",
   "metadata": {},
   "source": [
    "## Training & Evaluasi Model "
   ]
  },
  {
   "cell_type": "code",
   "execution_count": 66,
   "id": "44fa931c",
   "metadata": {},
   "outputs": [
    {
     "name": "stdout",
     "output_type": "stream",
     "text": [
      "MAE: 7.583333333333336\n",
      "MSE: 85.13888888888893\n"
     ]
    }
   ],
   "source": [
    "model.fit(x_train_scaled, y_train)\n",
    "y_pred = model.predict(x_test_scaled)\n",
    "\n",
    "MAE = mean_absolute_error(y_test, y_pred)\n",
    "MSE = mean_squared_error(y_test, y_pred)\n",
    "\n",
    "print (f'MAE: {MAE}')\n",
    "print (f'MSE: {MSE}')\n"
   ]
  }
 ],
 "metadata": {
  "kernelspec": {
   "display_name": "Python 3 (ipykernel)",
   "language": "python",
   "name": "python3"
  },
  "language_info": {
   "codemirror_mode": {
    "name": "ipython",
    "version": 3
   },
   "file_extension": ".py",
   "mimetype": "text/x-python",
   "name": "python",
   "nbconvert_exporter": "python",
   "pygments_lexer": "ipython3",
   "version": "3.11.5"
  }
 },
 "nbformat": 4,
 "nbformat_minor": 5
}
