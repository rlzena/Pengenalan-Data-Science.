{
 "cells": [
  {
   "cell_type": "markdown",
   "id": "72d35260",
   "metadata": {},
   "source": [
    "# SKLearn 08 | Multiple Linear Regression & Polynomial Regression | Belajar Machine Learning Dasar"
   ]
  },
  {
   "cell_type": "markdown",
   "id": "077e660b",
   "metadata": {},
   "source": [
    "Link youtube : https://www.youtube.com/watch?v=nWJUJenAyB8"
   ]
  },
  {
   "cell_type": "markdown",
   "id": "b9678b69",
   "metadata": {},
   "source": [
    "## Sample Dataset"
   ]
  },
  {
   "cell_type": "markdown",
   "id": "3f9ab207",
   "metadata": {},
   "source": [
    "Training Dataset"
   ]
  },
  {
   "cell_type": "code",
   "execution_count": 1,
   "id": "42baaf0f",
   "metadata": {},
   "outputs": [
    {
     "data": {
      "text/html": [
       "<div>\n",
       "<style scoped>\n",
       "    .dataframe tbody tr th:only-of-type {\n",
       "        vertical-align: middle;\n",
       "    }\n",
       "\n",
       "    .dataframe tbody tr th {\n",
       "        vertical-align: top;\n",
       "    }\n",
       "\n",
       "    .dataframe thead th {\n",
       "        text-align: right;\n",
       "    }\n",
       "</style>\n",
       "<table border=\"1\" class=\"dataframe\">\n",
       "  <thead>\n",
       "    <tr style=\"text-align: right;\">\n",
       "      <th></th>\n",
       "      <th>diameter</th>\n",
       "      <th>n_topping</th>\n",
       "      <th>harga</th>\n",
       "    </tr>\n",
       "  </thead>\n",
       "  <tbody>\n",
       "    <tr>\n",
       "      <th>0</th>\n",
       "      <td>6</td>\n",
       "      <td>2</td>\n",
       "      <td>7.0</td>\n",
       "    </tr>\n",
       "    <tr>\n",
       "      <th>1</th>\n",
       "      <td>8</td>\n",
       "      <td>1</td>\n",
       "      <td>9.0</td>\n",
       "    </tr>\n",
       "    <tr>\n",
       "      <th>2</th>\n",
       "      <td>10</td>\n",
       "      <td>0</td>\n",
       "      <td>13.0</td>\n",
       "    </tr>\n",
       "    <tr>\n",
       "      <th>3</th>\n",
       "      <td>14</td>\n",
       "      <td>2</td>\n",
       "      <td>17.5</td>\n",
       "    </tr>\n",
       "    <tr>\n",
       "      <th>4</th>\n",
       "      <td>18</td>\n",
       "      <td>0</td>\n",
       "      <td>18.0</td>\n",
       "    </tr>\n",
       "  </tbody>\n",
       "</table>\n",
       "</div>"
      ],
      "text/plain": [
       "   diameter  n_topping  harga\n",
       "0         6          2    7.0\n",
       "1         8          1    9.0\n",
       "2        10          0   13.0\n",
       "3        14          2   17.5\n",
       "4        18          0   18.0"
      ]
     },
     "execution_count": 1,
     "metadata": {},
     "output_type": "execute_result"
    }
   ],
   "source": [
    "import pandas as pd\n",
    "\n",
    "pizza = {'diameter' : [6, 8, 10, 14, 18],\n",
    "        'n_topping' : [2, 1, 0, 2, 0],\n",
    "        'harga' : [7, 9, 13, 17.5, 18]}\n",
    "\n",
    "train_pizza_df = pd.DataFrame(pizza)\n",
    "train_pizza_df"
   ]
  },
  {
   "cell_type": "markdown",
   "id": "a95868e9",
   "metadata": {},
   "source": [
    "## Testing Dataset "
   ]
  },
  {
   "cell_type": "code",
   "execution_count": 5,
   "id": "dd7595ae",
   "metadata": {},
   "outputs": [
    {
     "data": {
      "text/html": [
       "<div>\n",
       "<style scoped>\n",
       "    .dataframe tbody tr th:only-of-type {\n",
       "        vertical-align: middle;\n",
       "    }\n",
       "\n",
       "    .dataframe tbody tr th {\n",
       "        vertical-align: top;\n",
       "    }\n",
       "\n",
       "    .dataframe thead th {\n",
       "        text-align: right;\n",
       "    }\n",
       "</style>\n",
       "<table border=\"1\" class=\"dataframe\">\n",
       "  <thead>\n",
       "    <tr style=\"text-align: right;\">\n",
       "      <th></th>\n",
       "      <th>diameter</th>\n",
       "      <th>n_topping</th>\n",
       "      <th>harga</th>\n",
       "    </tr>\n",
       "  </thead>\n",
       "  <tbody>\n",
       "    <tr>\n",
       "      <th>0</th>\n",
       "      <td>8</td>\n",
       "      <td>2</td>\n",
       "      <td>11.0</td>\n",
       "    </tr>\n",
       "    <tr>\n",
       "      <th>1</th>\n",
       "      <td>9</td>\n",
       "      <td>0</td>\n",
       "      <td>8.5</td>\n",
       "    </tr>\n",
       "    <tr>\n",
       "      <th>2</th>\n",
       "      <td>11</td>\n",
       "      <td>2</td>\n",
       "      <td>15.0</td>\n",
       "    </tr>\n",
       "    <tr>\n",
       "      <th>3</th>\n",
       "      <td>16</td>\n",
       "      <td>2</td>\n",
       "      <td>18.0</td>\n",
       "    </tr>\n",
       "    <tr>\n",
       "      <th>4</th>\n",
       "      <td>12</td>\n",
       "      <td>0</td>\n",
       "      <td>11.0</td>\n",
       "    </tr>\n",
       "  </tbody>\n",
       "</table>\n",
       "</div>"
      ],
      "text/plain": [
       "   diameter  n_topping  harga\n",
       "0         8          2   11.0\n",
       "1         9          0    8.5\n",
       "2        11          2   15.0\n",
       "3        16          2   18.0\n",
       "4        12          0   11.0"
      ]
     },
     "execution_count": 5,
     "metadata": {},
     "output_type": "execute_result"
    }
   ],
   "source": [
    "pizza = {'diameter' : [8, 9, 11, 16, 12],\n",
    "        'n_topping' : [2, 0, 2, 2, 0],\n",
    "        'harga' : [11, 8.5, 15, 18, 11]}\n",
    "\n",
    "test_pizza_df = pd.DataFrame(pizza)\n",
    "test_pizza_df"
   ]
  },
  {
   "cell_type": "markdown",
   "id": "c4090972",
   "metadata": {},
   "source": [
    "## Preprocessing Dataset "
   ]
  },
  {
   "cell_type": "code",
   "execution_count": 8,
   "id": "c132574a",
   "metadata": {},
   "outputs": [
    {
     "name": "stdout",
     "output_type": "stream",
     "text": [
      "x_train:\n",
      "[[ 6  2]\n",
      " [ 8  1]\n",
      " [10  0]\n",
      " [14  2]\n",
      " [18  0]]\n",
      "\n",
      "y_train: [ 7.   9.  13.  17.5 18. ]\n"
     ]
    }
   ],
   "source": [
    "# import numpy as np\n",
    "\n",
    "x_train = np.array(train_pizza_df[['diameter', 'n_topping']])\n",
    "y_train = np.array(train_pizza_df['harga'])\n",
    "\n",
    "print(f'x_train:\\n{x_train}\\n')\n",
    "print(f'y_train: {y_train}')"
   ]
  },
  {
   "cell_type": "code",
   "execution_count": 7,
   "id": "e63d87b2",
   "metadata": {},
   "outputs": [
    {
     "name": "stdout",
     "output_type": "stream",
     "text": [
      "x_test:\n",
      "[[ 6  2]\n",
      " [ 8  1]\n",
      " [10  0]\n",
      " [14  2]\n",
      " [18  0]]\n",
      "\n",
      "y_test: [ 7.   9.  13.  17.5 18. ]\n"
     ]
    }
   ],
   "source": [
    "x_test = np.array(train_pizza_df[['diameter', 'n_topping']])\n",
    "y_test = np.array(train_pizza_df['harga'])\n",
    "\n",
    "print(f'x_test:\\n{x_train}\\n')\n",
    "print(f'y_test: {y_train}')"
   ]
  },
  {
   "cell_type": "markdown",
   "id": "ed28560f",
   "metadata": {},
   "source": [
    "## Multiple Linear Regression"
   ]
  },
  {
   "cell_type": "code",
   "execution_count": 9,
   "id": "ff60137e",
   "metadata": {},
   "outputs": [
    {
     "name": "stdout",
     "output_type": "stream",
     "text": [
      "r_squared: 0.9153377914951989\n"
     ]
    }
   ],
   "source": [
    "from sklearn.linear_model import LinearRegression\n",
    "from sklearn.metrics import r2_score\n",
    "\n",
    "model = LinearRegression()\n",
    "model.fit(x_train, y_train)\n",
    "y_pred = model.predict(x_test)\n",
    "\n",
    "print(f'r_squared: {r2_score(y_test, y_pred)}')"
   ]
  },
  {
   "cell_type": "markdown",
   "id": "d416978d",
   "metadata": {},
   "source": [
    "## Polynomial Regression "
   ]
  },
  {
   "cell_type": "code",
   "execution_count": 11,
   "id": "9f5ba1db",
   "metadata": {},
   "outputs": [
    {
     "name": "stdout",
     "output_type": "stream",
     "text": [
      "x_train:\n",
      "[[ 6]\n",
      " [ 8]\n",
      " [10]\n",
      " [14]\n",
      " [18]]\n",
      "\n",
      "y_train:[ 7.   9.  13.  17.5 18. ]\n"
     ]
    }
   ],
   "source": [
    "x_train = np.array(train_pizza_df['diameter']).reshape(-1, 1)\n",
    "y_train = np.array(train_pizza_df['harga'])\n",
    "\n",
    "print(f'x_train:\\n{x_train}\\n')\n",
    "print(f'y_train:{y_train}')"
   ]
  },
  {
   "cell_type": "markdown",
   "id": "6d24df6f",
   "metadata": {},
   "source": [
    "## Polynomial Regression: Quadratic"
   ]
  },
  {
   "cell_type": "markdown",
   "id": "4ff12a4e",
   "metadata": {},
   "source": [
    "Polynomial Features"
   ]
  },
  {
   "cell_type": "code",
   "execution_count": 15,
   "id": "cf648f37",
   "metadata": {},
   "outputs": [
    {
     "name": "stdout",
     "output_type": "stream",
     "text": [
      "X_train_quadratic:\n",
      "[[  1.   6.  36.]\n",
      " [  1.   8.  64.]\n",
      " [  1.  10. 100.]\n",
      " [  1.  14. 196.]\n",
      " [  1.  18. 324.]]\n",
      "\n"
     ]
    }
   ],
   "source": [
    "from sklearn.preprocessing import PolynomialFeatures\n",
    "\n",
    "quadratic_feature = PolynomialFeatures(degree=2)\n",
    "x_train_quadratic = quadratic_feature.fit_transform(x_train)\n",
    "\n",
    "print(f'X_train_quadratic:\\n{x_train_quadratic}\\n')"
   ]
  },
  {
   "cell_type": "markdown",
   "id": "8bd5fc45",
   "metadata": {},
   "source": [
    "Training Model"
   ]
  },
  {
   "cell_type": "code",
   "execution_count": 16,
   "id": "fb20bd8f",
   "metadata": {},
   "outputs": [
    {
     "data": {
      "text/html": [
       "<style>#sk-container-id-1 {color: black;}#sk-container-id-1 pre{padding: 0;}#sk-container-id-1 div.sk-toggleable {background-color: white;}#sk-container-id-1 label.sk-toggleable__label {cursor: pointer;display: block;width: 100%;margin-bottom: 0;padding: 0.3em;box-sizing: border-box;text-align: center;}#sk-container-id-1 label.sk-toggleable__label-arrow:before {content: \"▸\";float: left;margin-right: 0.25em;color: #696969;}#sk-container-id-1 label.sk-toggleable__label-arrow:hover:before {color: black;}#sk-container-id-1 div.sk-estimator:hover label.sk-toggleable__label-arrow:before {color: black;}#sk-container-id-1 div.sk-toggleable__content {max-height: 0;max-width: 0;overflow: hidden;text-align: left;background-color: #f0f8ff;}#sk-container-id-1 div.sk-toggleable__content pre {margin: 0.2em;color: black;border-radius: 0.25em;background-color: #f0f8ff;}#sk-container-id-1 input.sk-toggleable__control:checked~div.sk-toggleable__content {max-height: 200px;max-width: 100%;overflow: auto;}#sk-container-id-1 input.sk-toggleable__control:checked~label.sk-toggleable__label-arrow:before {content: \"▾\";}#sk-container-id-1 div.sk-estimator input.sk-toggleable__control:checked~label.sk-toggleable__label {background-color: #d4ebff;}#sk-container-id-1 div.sk-label input.sk-toggleable__control:checked~label.sk-toggleable__label {background-color: #d4ebff;}#sk-container-id-1 input.sk-hidden--visually {border: 0;clip: rect(1px 1px 1px 1px);clip: rect(1px, 1px, 1px, 1px);height: 1px;margin: -1px;overflow: hidden;padding: 0;position: absolute;width: 1px;}#sk-container-id-1 div.sk-estimator {font-family: monospace;background-color: #f0f8ff;border: 1px dotted black;border-radius: 0.25em;box-sizing: border-box;margin-bottom: 0.5em;}#sk-container-id-1 div.sk-estimator:hover {background-color: #d4ebff;}#sk-container-id-1 div.sk-parallel-item::after {content: \"\";width: 100%;border-bottom: 1px solid gray;flex-grow: 1;}#sk-container-id-1 div.sk-label:hover label.sk-toggleable__label {background-color: #d4ebff;}#sk-container-id-1 div.sk-serial::before {content: \"\";position: absolute;border-left: 1px solid gray;box-sizing: border-box;top: 0;bottom: 0;left: 50%;z-index: 0;}#sk-container-id-1 div.sk-serial {display: flex;flex-direction: column;align-items: center;background-color: white;padding-right: 0.2em;padding-left: 0.2em;position: relative;}#sk-container-id-1 div.sk-item {position: relative;z-index: 1;}#sk-container-id-1 div.sk-parallel {display: flex;align-items: stretch;justify-content: center;background-color: white;position: relative;}#sk-container-id-1 div.sk-item::before, #sk-container-id-1 div.sk-parallel-item::before {content: \"\";position: absolute;border-left: 1px solid gray;box-sizing: border-box;top: 0;bottom: 0;left: 50%;z-index: -1;}#sk-container-id-1 div.sk-parallel-item {display: flex;flex-direction: column;z-index: 1;position: relative;background-color: white;}#sk-container-id-1 div.sk-parallel-item:first-child::after {align-self: flex-end;width: 50%;}#sk-container-id-1 div.sk-parallel-item:last-child::after {align-self: flex-start;width: 50%;}#sk-container-id-1 div.sk-parallel-item:only-child::after {width: 0;}#sk-container-id-1 div.sk-dashed-wrapped {border: 1px dashed gray;margin: 0 0.4em 0.5em 0.4em;box-sizing: border-box;padding-bottom: 0.4em;background-color: white;}#sk-container-id-1 div.sk-label label {font-family: monospace;font-weight: bold;display: inline-block;line-height: 1.2em;}#sk-container-id-1 div.sk-label-container {text-align: center;}#sk-container-id-1 div.sk-container {/* jupyter's `normalize.less` sets `[hidden] { display: none; }` but bootstrap.min.css set `[hidden] { display: none !important; }` so we also need the `!important` here to be able to override the default hidden behavior on the sphinx rendered scikit-learn.org. See: https://github.com/scikit-learn/scikit-learn/issues/21755 */display: inline-block !important;position: relative;}#sk-container-id-1 div.sk-text-repr-fallback {display: none;}</style><div id=\"sk-container-id-1\" class=\"sk-top-container\"><div class=\"sk-text-repr-fallback\"><pre>LinearRegression()</pre><b>In a Jupyter environment, please rerun this cell to show the HTML representation or trust the notebook. <br />On GitHub, the HTML representation is unable to render, please try loading this page with nbviewer.org.</b></div><div class=\"sk-container\" hidden><div class=\"sk-item\"><div class=\"sk-estimator sk-toggleable\"><input class=\"sk-toggleable__control sk-hidden--visually\" id=\"sk-estimator-id-1\" type=\"checkbox\" checked><label for=\"sk-estimator-id-1\" class=\"sk-toggleable__label sk-toggleable__label-arrow\">LinearRegression</label><div class=\"sk-toggleable__content\"><pre>LinearRegression()</pre></div></div></div></div></div>"
      ],
      "text/plain": [
       "LinearRegression()"
      ]
     },
     "execution_count": 16,
     "metadata": {},
     "output_type": "execute_result"
    }
   ],
   "source": [
    "model = LinearRegression()\n",
    "model.fit(x_train_quadratic, y_train)"
   ]
  },
  {
   "cell_type": "markdown",
   "id": "c3cba774",
   "metadata": {},
   "source": [
    "Visualisasi Model"
   ]
  },
  {
   "cell_type": "code",
   "execution_count": 18,
   "id": "c178ccfd",
   "metadata": {},
   "outputs": [
    {
     "data": {
      "text/plain": [
       "<function matplotlib.pyplot.show(close=None, block=None)>"
      ]
     },
     "execution_count": 18,
     "metadata": {},
     "output_type": "execute_result"
    },
    {
     "data": {
      "image/png": "[encoded data removed]",
      "text/plain": [
       "<Figure size 640x480 with 1 Axes>"
      ]
     },
     "metadata": {},
     "output_type": "display_data"
    }
   ],
   "source": [
    "import matplotlib.pyplot as plt\n",
    "\n",
    "x_vis = np.linspace(0, 25, 100).reshape(-1, 1)\n",
    "x_vis_quadratic = quadratic_feature.transform(x_vis)\n",
    "y_vis_quadratic = model.predict(x_vis_quadratic)\n",
    "\n",
    "plt.scatter(x_train, y_train)\n",
    "plt.plot(x_vis, y_vis_quadratic, '-r')\n",
    "\n",
    "plt.title('Perbandingan Diameter dan Harga Pizza')\n",
    "plt.xlabel('Diameter (inch)')\n",
    "plt.ylabel('Harga (dollar)')\n",
    "plt.xlim (0,25)\n",
    "plt.ylim (0,25)\n",
    "plt.grid (True)\n",
    "plt.show"
   ]
  },
  {
   "cell_type": "markdown",
   "id": "ca25b0ad",
   "metadata": {},
   "source": [
    "## Polynomial Regression: Quadratic vs Cubic "
   ]
  },
  {
   "cell_type": "code",
   "execution_count": 20,
   "id": "7f387472",
   "metadata": {},
   "outputs": [
    {
     "data": {
      "text/plain": [
       "<function matplotlib.pyplot.show(close=None, block=None)>"
      ]
     },
     "execution_count": 20,
     "metadata": {},
     "output_type": "execute_result"
    },
    {
     "data": {
      "image/png": "[encoded data removed]",
      "text/plain": [
       "<Figure size 640x480 with 1 Axes>"
      ]
     },
     "metadata": {},
     "output_type": "display_data"
    }
   ],
   "source": [
    "#training set\n",
    "plt.scatter(x_train, y_train)\n",
    "\n",
    "#linear\n",
    "model = LinearRegression()\n",
    "model.fit(x_train, y_train)\n",
    "x_vis = np.linspace(0, 25, 100).reshape(-1, 1)\n",
    "y_vis = model.predict(x_vis)\n",
    "plt.plot(x_vis, y_vis, '--r', label='linear')\n",
    "\n",
    "#quadratic\n",
    "quadratic_feature = PolynomialFeatures(degree=2)\n",
    "x_train_quadratic = quadratic_feature.fit_transform(x_train)\n",
    "model = LinearRegression()\n",
    "model.fit(x_train_quadratic, y_train)\n",
    "x_vis_quadratic = quadratic_feature.transform(x_vis)\n",
    "y_vis = model.predict(x_vis_quadratic)\n",
    "plt.plot(x_vis, y_vis, '--g', label='quadratic')\n",
    "\n",
    "#cubic\n",
    "cubic_feature = PolynomialFeatures(degree=3)\n",
    "x_train_cubic = cubic_feature.fit_transform(x_train)\n",
    "model = LinearRegression()\n",
    "model.fit(x_train_cubic, y_train)\n",
    "x_vis_cubic = cubic_feature.transform(x_vis)\n",
    "y_vis = model.predict(x_vis_cubic)\n",
    "plt.plot(x_vis, y_vis, '--y', label='cubic')\n",
    "\n",
    "plt.title('Perbandingan Diameter dan Harga Pizza')\n",
    "plt.xlabel('Diameter (inch)')\n",
    "plt.ylabel('Harga (dollar)')\n",
    "plt.xlim (0,25)\n",
    "plt.ylim (0,25)\n",
    "plt.grid (True)\n",
    "plt.show"
   ]
  }
 ],
 "metadata": {
  "kernelspec": {
   "display_name": "Python 3 (ipykernel)",
   "language": "python",
   "name": "python3"
  },
  "language_info": {
   "codemirror_mode": {
    "name": "ipython",
    "version": 3
   },
   "file_extension": ".py",
   "mimetype": "text/x-python",
   "name": "python",
   "nbconvert_exporter": "python",
   "pygments_lexer": "ipython3",
   "version": "3.11.5"
  }
 },
 "nbformat": 4,
 "nbformat_minor": 5
}
